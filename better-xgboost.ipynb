{
 "cells": [
  {
   "cell_type": "code",
   "execution_count": 1,
   "metadata": {},
   "outputs": [
    {
     "name": "stdout",
     "output_type": "stream",
     "text": [
      "WARNING:tensorflow:From c:\\Users\\Gustavo Castro\\AppData\\Local\\Programs\\Python\\Python312\\Lib\\site-packages\\tf_keras\\src\\losses.py:2976: The name tf.losses.sparse_softmax_cross_entropy is deprecated. Please use tf.compat.v1.losses.sparse_softmax_cross_entropy instead.\n",
      "\n"
     ]
    }
   ],
   "source": [
    "import re\n",
    "from gensim import corpora\n",
    "import gensim\n",
    "from nltk.corpus import stopwords\n",
    "from nltk.tokenize import word_tokenize, sent_tokenize\n",
    "from nltk.stem import WordNetLemmatizer\n",
    "import tqdm\n",
    "import zlib\n",
    "import base64\n",
    "import os\n",
    "import nltk\n",
    "import pandas as pd\n",
    "from summarizer import Summarizer\n",
    "import string\n",
    "from sklearn.feature_extraction.text import TfidfVectorizer\n",
    "\n",
    "from sentence_transformers import SentenceTransformer\n",
    "import numpy as np\n",
    "\n",
    "\n",
    "from nltk import bigrams"
   ]
  },
  {
   "cell_type": "code",
   "execution_count": 2,
   "metadata": {},
   "outputs": [
    {
     "name": "stderr",
     "output_type": "stream",
     "text": [
      "[nltk_data] Downloading package punkt to C:\\Users\\Gustavo\n",
      "[nltk_data]     Castro\\AppData\\Roaming\\nltk_data...\n",
      "[nltk_data]   Package punkt is already up-to-date!\n",
      "[nltk_data] Downloading package stopwords to C:\\Users\\Gustavo\n",
      "[nltk_data]     Castro\\AppData\\Roaming\\nltk_data...\n",
      "[nltk_data]   Package stopwords is already up-to-date!\n",
      "[nltk_data] Downloading package wordnet to C:\\Users\\Gustavo\n",
      "[nltk_data]     Castro\\AppData\\Roaming\\nltk_data...\n",
      "[nltk_data]   Package wordnet is already up-to-date!\n"
     ]
    }
   ],
   "source": [
    "nltk.download('punkt')\n",
    "nltk.download('stopwords')\n",
    "nltk.download('wordnet')\n",
    "\n",
    "dir_speeches  = 'compressed_fomc_minutes'\n",
    "\n",
    "\n",
    "stop_words = set(stopwords.words('english'))\n",
    "lemmatizer = WordNetLemmatizer()"
   ]
  },
  {
   "cell_type": "code",
   "execution_count": 3,
   "metadata": {},
   "outputs": [],
   "source": [
    "def preprocess_text(text):\n",
    "    # Remove punctuation and special characters\n",
    "    text = re.sub(r'[^\\w\\s]', ' ', text)\n",
    "    # Convert to lowercase\n",
    "    text = text.lower()\n",
    "    # Tokenize the text\n",
    "    tokens = word_tokenize(text)\n",
    "    # Remove stop words\n",
    "    tokens = [word for word in tokens if word not in stop_words]\n",
    "    # Remove duplicate tokens\n",
    "    tokens = list(dict.fromkeys(tokens))  # Remove duplicates while preserving order\n",
    "    return ' '.join(tokens)"
   ]
  },
  {
   "cell_type": "code",
   "execution_count": 4,
   "metadata": {},
   "outputs": [],
   "source": [
    "documents = {}\n",
    "#read all files in the directory\n",
    "for filename in os.listdir(dir_speeches):\n",
    "    if filename.endswith('.txt'):\n",
    "        with open(os.path.join(dir_speeches, filename), 'r', encoding=\"utf8\") as file:\n",
    "            text = file.read()\n",
    "            #print('Original Text:', text)\n",
    "            decompressed = zlib.decompress(base64.b64decode(text.encode())).decode()\n",
    "            decompressed = preprocess_text(decompressed)\n",
    "            \n",
    "            # make decompressed into a string\n",
    "           \n",
    "            documents[filename] = decompressed\n",
    "            \n"
   ]
  },
  {
   "cell_type": "code",
   "execution_count": 5,
   "metadata": {},
   "outputs": [
    {
     "name": "stdout",
     "output_type": "stream",
     "text": [
      "                                                   0       time\n",
      "0  meeting federal open market committee held off... 2000-02-02\n",
      "1  meeting federal open market committee held off... 2000-03-21\n",
      "2  meeting federal open market committee held off... 2000-05-16\n",
      "3  meeting federal open market committee held off... 2000-06-28\n",
      "4  meeting federal open market committee held off... 2000-08-22\n"
     ]
    }
   ],
   "source": [
    "# make dataframe\n",
    "df = pd.DataFrame.from_dict(documents, orient='index')\n",
    "df['time'] = df.index.str.replace('.txt', '').str.replace('compressed_fomc_minutes', ' ')\n",
    "df['time'] = pd.to_datetime(df['time'])\n",
    "df.index = range(len(df))\n",
    "df = df.sort_values(by='time')\n",
    "print(df.head())"
   ]
  },
  {
   "cell_type": "code",
   "execution_count": 6,
   "metadata": {},
   "outputs": [],
   "source": [
    "df['t+1'] = df['time'].shift(-1)\n",
    "df['t+2'] = df['time'].shift(-2)\n",
    "df[\"Text\"] = df[0]\n"
   ]
  },
  {
   "cell_type": "code",
   "execution_count": 30,
   "metadata": {},
   "outputs": [
    {
     "data": {
      "text/html": [
       "<div>\n",
       "<style scoped>\n",
       "    .dataframe tbody tr th:only-of-type {\n",
       "        vertical-align: middle;\n",
       "    }\n",
       "\n",
       "    .dataframe tbody tr th {\n",
       "        vertical-align: top;\n",
       "    }\n",
       "\n",
       "    .dataframe thead th {\n",
       "        text-align: right;\n",
       "    }\n",
       "</style>\n",
       "<table border=\"1\" class=\"dataframe\">\n",
       "  <thead>\n",
       "    <tr style=\"text-align: right;\">\n",
       "      <th></th>\n",
       "      <th>Text</th>\n",
       "      <th>time</th>\n",
       "      <th>index</th>\n",
       "      <th>DATE</th>\n",
       "      <th>rate</th>\n",
       "    </tr>\n",
       "  </thead>\n",
       "  <tbody>\n",
       "    <tr>\n",
       "      <th>0</th>\n",
       "      <td>meeting federal open market committee held off...</td>\n",
       "      <td>2000-02-02</td>\n",
       "      <td>154</td>\n",
       "      <td>2000-02-02</td>\n",
       "      <td>5.75</td>\n",
       "    </tr>\n",
       "    <tr>\n",
       "      <th>1</th>\n",
       "      <td>meeting federal open market committee held off...</td>\n",
       "      <td>2000-03-21</td>\n",
       "      <td>202</td>\n",
       "      <td>2000-03-21</td>\n",
       "      <td>6.00</td>\n",
       "    </tr>\n",
       "    <tr>\n",
       "      <th>2</th>\n",
       "      <td>meeting federal open market committee held off...</td>\n",
       "      <td>2000-05-16</td>\n",
       "      <td>258</td>\n",
       "      <td>2000-05-16</td>\n",
       "      <td>6.50</td>\n",
       "    </tr>\n",
       "    <tr>\n",
       "      <th>3</th>\n",
       "      <td>meeting federal open market committee held off...</td>\n",
       "      <td>2000-06-28</td>\n",
       "      <td>301</td>\n",
       "      <td>2000-06-28</td>\n",
       "      <td>6.50</td>\n",
       "    </tr>\n",
       "    <tr>\n",
       "      <th>4</th>\n",
       "      <td>meeting federal open market committee held off...</td>\n",
       "      <td>2000-08-22</td>\n",
       "      <td>356</td>\n",
       "      <td>2000-08-22</td>\n",
       "      <td>6.50</td>\n",
       "    </tr>\n",
       "  </tbody>\n",
       "</table>\n",
       "</div>"
      ],
      "text/plain": [
       "                                                Text       time  index  \\\n",
       "0  meeting federal open market committee held off... 2000-02-02    154   \n",
       "1  meeting federal open market committee held off... 2000-03-21    202   \n",
       "2  meeting federal open market committee held off... 2000-05-16    258   \n",
       "3  meeting federal open market committee held off... 2000-06-28    301   \n",
       "4  meeting federal open market committee held off... 2000-08-22    356   \n",
       "\n",
       "        DATE  rate  \n",
       "0 2000-02-02  5.75  \n",
       "1 2000-03-21  6.00  \n",
       "2 2000-05-16  6.50  \n",
       "3 2000-06-28  6.50  \n",
       "4 2000-08-22  6.50  "
      ]
     },
     "execution_count": 30,
     "metadata": {},
     "output_type": "execute_result"
    }
   ],
   "source": [
    "#get interest rate data \n",
    "\n",
    "df_economic_data = pd.read_csv('DFEDTAR.csv', index_col=0)\n",
    "#date, value\n",
    "df_economic_data.index = pd.to_datetime(df_economic_data.index)\n",
    "df_economic_data.reset_index(inplace=True)\n",
    "#get the interest rate for the values in df\n",
    "df['t+1'] = pd.to_datetime(df['t+1'])\n",
    "\n",
    "#match the interest rate to the meeting date in df\n",
    "merged_df = pd.merge(df[['Text', 'time']], df_economic_data.reset_index(), left_on='time', right_on='DATE', how='left')\n",
    "#rename DFEDTAR to IR\n",
    "merged_df = merged_df.rename(columns={'DFEDTAR': 'rate'})\n",
    "merged_df.head()"
   ]
  },
  {
   "cell_type": "code",
   "execution_count": 31,
   "metadata": {},
   "outputs": [],
   "source": [
    "merged_df['rateChange'] = merged_df['rate'].shift(-1) - merged_df['rate']\n",
    "# Drop rows with NaN values in 'rateChange' (optional, depending on your needs)\n",
    "merged_df.dropna(subset=['rateChange'], inplace=True)\n",
    "merged_df.drop('index', axis=1, inplace=True)\n",
    "\n",
    "#  drop the redundant time column after merging\n",
    "merged_df.drop('time', axis=1, inplace=True)\n",
    "#drop index\n"
   ]
  },
  {
   "cell_type": "code",
   "execution_count": 32,
   "metadata": {},
   "outputs": [],
   "source": [
    "#save df to csv\n",
    "merged_df.to_csv('merged_df.csv', index=False)"
   ]
  },
  {
   "cell_type": "code",
   "execution_count": 33,
   "metadata": {},
   "outputs": [],
   "source": [
    "#Step 2: Generate Sentence Embeddings with SBERT\n",
    "import torch\n",
    "import torch.nn as nn\n",
    "import torch.optim as optim\n",
    "from sentence_transformers import SentenceTransformer\n",
    "import numpy as np\n",
    "from sklearn.metrics import mean_squared_error\n",
    "from sklearn.metrics import classification_report, f1_score\n",
    "#get xgboost model\n",
    "import xgboost as xgb\n",
    "from sklearn.model_selection import train_test_split, GridSearchCV\n",
    "from sklearn.preprocessing import LabelEncoder\n",
    "\n",
    "# Load the pre-trained Sentence-BERT model\n",
    "model = SentenceTransformer('all-MiniLM-L6-v2')  # You can use other pre-trained models as well\n",
    "\n",
    "# Example sentences (replace these with sentences from FED publications)\n",
    "sentences = merged_df['Text'].values\n",
    "\n",
    "# Generate embeddings for the sentences\n",
    "embeddings = model.encode(sentences)\n",
    "\n",
    "# Convert embeddings to numpy array for easier handling\n",
    "embeddings = np.array(embeddings)\n",
    "\n",
    "# Load the data\n",
    "x = embeddings\n",
    "y = merged_df['rateChange']\n",
    "y = [1 if x > 0 else 0 if x == 0 else 2 for x in y]\n"
   ]
  },
  {
   "cell_type": "code",
   "execution_count": 34,
   "metadata": {},
   "outputs": [
    {
     "name": "stdout",
     "output_type": "stream",
     "text": [
      "Fitting 3 folds for each of 729 candidates, totalling 2187 fits\n",
      "Best Parameters:  {'colsample_bytree': 0.8, 'eta': 0.2, 'gamma': 0.2, 'lambda': 1.0, 'max_depth': 3, 'subsample': 0.8}\n",
      "Best F1 Score:  0.6504633801367015\n"
     ]
    }
   ],
   "source": [
    "\n",
    "# Split data into training and test sets\n",
    "X_train, X_test, y_train, y_test = train_test_split(\n",
    "    x, y, test_size=0.4, random_state=42\n",
    ")\n",
    "\n",
    "\n",
    "# Define the XGBoost model\n",
    "xgb_model = xgb.XGBClassifier(objective='multi:softmax', num_class=3, eval_metric='mlogloss', seed=42)\n",
    "\n",
    "# Define parameter grid for GridSearch\n",
    "param_grid = {\n",
    "    'max_depth': [3, 6, 9],\n",
    "    'eta': [0.01, 0.1, 0.2],\n",
    "    'gamma': [0, 0.1, 0.2],\n",
    "    'subsample': [0.8, 0.9, 1.0],\n",
    "    'colsample_bytree': [0.8, 0.9, 1.0],\n",
    "    'lambda': [0, 0.1, 1.0]\n",
    "}\n",
    "\n",
    "# Use GridSearchCV to find the best hyperparameters\n",
    "grid_search = GridSearchCV(\n",
    "    estimator=xgb_model,\n",
    "    param_grid=param_grid,\n",
    "    scoring='f1_weighted',\n",
    "    cv=3,  # 3-fold cross-validation\n",
    "    verbose=1,\n",
    "    n_jobs=-1  # Use all available cores\n",
    ")\n",
    "\n",
    "# Fit GridSearchCV\n",
    "grid_search.fit(X_train, y_train)\n",
    "\n",
    "# Print the best parameters and score\n",
    "print(\"Best Parameters: \", grid_search.best_params_)\n",
    "print(\"Best F1 Score: \", grid_search.best_score_)\n",
    "\n",
    "# Use the best model to predict on the test set\n",
    "best_model = grid_search.best_estimator_\n",
    "preds = best_model.predict(X_test)\n",
    "\n"
   ]
  },
  {
   "cell_type": "code",
   "execution_count": 35,
   "metadata": {},
   "outputs": [
    {
     "name": "stdout",
     "output_type": "stream",
     "text": [
      "F1 Score: 0.7879\n",
      "              precision    recall  f1-score   support\n",
      "\n",
      "           0       0.84      0.87      0.86        55\n",
      "           1       0.67      0.50      0.57        12\n",
      "           2       0.64      0.70      0.67        10\n",
      "\n",
      "    accuracy                           0.79        77\n",
      "   macro avg       0.72      0.69      0.70        77\n",
      "weighted avg       0.79      0.79      0.79        77\n",
      "\n"
     ]
    }
   ],
   "source": [
    "# Evaluate the model\n",
    "f1 = f1_score(y_test, preds, average='weighted')\n",
    "print(f'F1 Score: {f1:.4f}')\n",
    "print(classification_report(y_test, preds))"
   ]
  }
 ],
 "metadata": {
  "kernelspec": {
   "display_name": "Python 3",
   "language": "python",
   "name": "python3"
  },
  "language_info": {
   "codemirror_mode": {
    "name": "ipython",
    "version": 3
   },
   "file_extension": ".py",
   "mimetype": "text/x-python",
   "name": "python",
   "nbconvert_exporter": "python",
   "pygments_lexer": "ipython3",
   "version": "3.12.4"
  }
 },
 "nbformat": 4,
 "nbformat_minor": 2
}
